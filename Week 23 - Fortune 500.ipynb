{
 "cells": [
  {
   "cell_type": "code",
   "execution_count": 40,
   "metadata": {},
   "outputs": [],
   "source": [
    "from selenium import webdriver\n",
    "from selenium.webdriver.common.keys import Keys\n",
    "from selenium.webdriver.common.by import By\n",
    "from selenium.webdriver.support.ui import WebDriverWait\n",
    "from selenium.webdriver.support import expected_conditions as EC\n",
    "import json\n",
    "import time\n",
    "import os\n",
    "import pandas as pd\n",
    "\n",
    "companies = pd.read_excel(\"companies.xlsx\")\n",
    "\n",
    "chrome_options = webdriver.ChromeOptions()\n",
    "settings = {\n",
    "       \"recentDestinations\": [{\n",
    "            \"id\": \"Save as PDF\",\n",
    "            \"origin\": \"local\",\n",
    "            \"account\": \"\",\n",
    "        }],\n",
    "        \"selectedDestinationId\": \"Save as PDF\",\n",
    "        \"version\": 2\n",
    "    }\n",
    "prefs = {'printing.print_preview_sticky_settings.appState': json.dumps(settings)}\n",
    "chrome_options.add_experimental_option('prefs', prefs)\n",
    "chrome_options.add_argument('--kiosk-printing')\n",
    "chrome_options.add_argument('--start-maximized')\n",
    "\n",
    "driver = webdriver.Chrome('./chromedriver/chromedriver.exe', chrome_options=chrome_options)\n",
    "\n",
    "f5_url = 'https://fortune.com/fortune500/2020/search/'\n",
    "\n",
    "driver.get(f5_url)\n",
    "\n",
    "rows_xpath = '//*[@aria-label=\"rows per page\"]/option[text()=\"100 rows\"]'\n",
    "driver.find_element_by_xpath(rows_xpath).click()\n",
    "\n",
    "# remove_xpath = '//*[text()=\"Remove\"]'\n",
    "# element = WebDriverWait(driver, 10).until(\n",
    "#     EC.element_to_be_clickable((By.XPATH, remove_xpath))\n",
    "# )\n",
    "\n",
    "# for i in range(9):\n",
    "#     driver.find_element_by_xpath(remove_xpath).click()"
   ]
  },
  {
   "cell_type": "code",
   "execution_count": 53,
   "metadata": {},
   "outputs": [
    {
     "ename": "TimeoutException",
     "evalue": "Message: \n",
     "output_type": "error",
     "traceback": [
      "\u001b[1;31m---------------------------------------------------------------------------\u001b[0m",
      "\u001b[1;31mTimeoutException\u001b[0m                          Traceback (most recent call last)",
      "\u001b[1;32m<ipython-input-53-9f30145b03b3>\u001b[0m in \u001b[0;36m<module>\u001b[1;34m\u001b[0m\n\u001b[0;32m     11\u001b[0m \u001b[1;33m\u001b[0m\u001b[0m\n\u001b[0;32m     12\u001b[0m     \u001b[0mwait\u001b[0m \u001b[1;33m=\u001b[0m \u001b[0mWebDriverWait\u001b[0m\u001b[1;33m(\u001b[0m\u001b[0mdriver\u001b[0m\u001b[1;33m,\u001b[0m \u001b[1;36m10\u001b[0m\u001b[1;33m)\u001b[0m\u001b[1;33m\u001b[0m\u001b[1;33m\u001b[0m\u001b[0m\n\u001b[1;32m---> 13\u001b[1;33m     \u001b[0melement\u001b[0m \u001b[1;33m=\u001b[0m \u001b[0mwait\u001b[0m\u001b[1;33m.\u001b[0m\u001b[0muntil\u001b[0m\u001b[1;33m(\u001b[0m\u001b[0mEC\u001b[0m\u001b[1;33m.\u001b[0m\u001b[0melement_to_be_clickable\u001b[0m\u001b[1;33m(\u001b[0m\u001b[1;33m(\u001b[0m\u001b[0mBy\u001b[0m\u001b[1;33m.\u001b[0m\u001b[0mXPATH\u001b[0m\u001b[1;33m,\u001b[0m \u001b[0mnext_xpath\u001b[0m\u001b[1;33m)\u001b[0m\u001b[1;33m)\u001b[0m\u001b[1;33m)\u001b[0m\u001b[1;33m\u001b[0m\u001b[1;33m\u001b[0m\u001b[0m\n\u001b[0m\u001b[0;32m     14\u001b[0m \u001b[1;33m\u001b[0m\u001b[0m\n\u001b[0;32m     15\u001b[0m     \u001b[0mdriver\u001b[0m\u001b[1;33m.\u001b[0m\u001b[0mfind_element_by_xpath\u001b[0m\u001b[1;33m(\u001b[0m\u001b[0mnext_xpath\u001b[0m\u001b[1;33m)\u001b[0m\u001b[1;33m.\u001b[0m\u001b[0mclick\u001b[0m\u001b[1;33m(\u001b[0m\u001b[1;33m)\u001b[0m\u001b[1;33m\u001b[0m\u001b[1;33m\u001b[0m\u001b[0m\n",
      "\u001b[1;32m~\\anaconda3\\lib\\site-packages\\selenium\\webdriver\\support\\wait.py\u001b[0m in \u001b[0;36muntil\u001b[1;34m(self, method, message)\u001b[0m\n\u001b[0;32m     78\u001b[0m             \u001b[1;32mif\u001b[0m \u001b[0mtime\u001b[0m\u001b[1;33m.\u001b[0m\u001b[0mtime\u001b[0m\u001b[1;33m(\u001b[0m\u001b[1;33m)\u001b[0m \u001b[1;33m>\u001b[0m \u001b[0mend_time\u001b[0m\u001b[1;33m:\u001b[0m\u001b[1;33m\u001b[0m\u001b[1;33m\u001b[0m\u001b[0m\n\u001b[0;32m     79\u001b[0m                 \u001b[1;32mbreak\u001b[0m\u001b[1;33m\u001b[0m\u001b[1;33m\u001b[0m\u001b[0m\n\u001b[1;32m---> 80\u001b[1;33m         \u001b[1;32mraise\u001b[0m \u001b[0mTimeoutException\u001b[0m\u001b[1;33m(\u001b[0m\u001b[0mmessage\u001b[0m\u001b[1;33m,\u001b[0m \u001b[0mscreen\u001b[0m\u001b[1;33m,\u001b[0m \u001b[0mstacktrace\u001b[0m\u001b[1;33m)\u001b[0m\u001b[1;33m\u001b[0m\u001b[1;33m\u001b[0m\u001b[0m\n\u001b[0m\u001b[0;32m     81\u001b[0m \u001b[1;33m\u001b[0m\u001b[0m\n\u001b[0;32m     82\u001b[0m     \u001b[1;32mdef\u001b[0m \u001b[0muntil_not\u001b[0m\u001b[1;33m(\u001b[0m\u001b[0mself\u001b[0m\u001b[1;33m,\u001b[0m \u001b[0mmethod\u001b[0m\u001b[1;33m,\u001b[0m \u001b[0mmessage\u001b[0m\u001b[1;33m=\u001b[0m\u001b[1;34m''\u001b[0m\u001b[1;33m)\u001b[0m\u001b[1;33m:\u001b[0m\u001b[1;33m\u001b[0m\u001b[1;33m\u001b[0m\u001b[0m\n",
      "\u001b[1;31mTimeoutException\u001b[0m: Message: \n"
     ]
    }
   ],
   "source": [
    "# To download names of company from Forbes\n",
    "companies = []\n",
    "for i in range(10):\n",
    "    results_xpath = '//*[@class=\"searchResults__cellContent--3WEWj\"]'\n",
    "    elements = driver.find_elements_by_xpath(results_xpath)\n",
    "\n",
    "    for i in range(1100):\n",
    "        if i%11 == 1:\n",
    "            companies.append(elements[i].text)\n",
    "\n",
    "    next_xpath = '//*[text()=\"Next\"]'\n",
    "    \n",
    "    wait = WebDriverWait(driver, 10)\n",
    "    element = wait.until(EC.element_to_be_clickable((By.XPATH, next_xpath)))\n",
    "    \n",
    "    driver.find_element_by_xpath(next_xpath).click()"
   ]
  },
  {
   "cell_type": "code",
   "execution_count": 36,
   "metadata": {},
   "outputs": [],
   "source": [
    "import pandas as pd\n",
    "df = pd.DataFrame(companies, columns=['Company Name'])\n",
    "df.to_excel(\"companies.xlsx\", index=False)"
   ]
  },
  {
   "cell_type": "code",
   "execution_count": 37,
   "metadata": {},
   "outputs": [],
   "source": [
    "cmp = list(companies[\"Company Name\"][0:2])\n",
    "failed = []\n",
    "sec_url = 'https://www.sec.gov/edgar/searchedgar/companysearch.html'\n",
    "\n",
    "searchbar_xpath = '//*[@id=\"company\"]'\n",
    "searchbtn_xpath = '//*[@id=\"search_button\"]'\n",
    "\n",
    "for company in cmp:\n",
    "    try:\n",
    "        driver.get(sec_url)\n",
    "        driver.find_element_by_xpath(searchbar_xpath).send_keys(company)\n",
    "        driver.find_element_by_xpath(searchbtn_xpath).click()\n",
    "\n",
    "        cik_xpath = '(//tr[2])/td[@valign=\"top\"]'\n",
    "        wait = WebDriverWait(driver, 10)\n",
    "        cik = wait.until(EC.element_to_be_clickable((By.XPATH, cik_xpath)))\n",
    "        cik = ((driver.find_element_by_xpath(cik_xpath)).text)\n",
    "        cik1 = cik.split()[0]\n",
    "        cik2 = cik.split()[-1]\n",
    "\n",
    "        if cik1.isnumeric():\n",
    "            cik = cik1\n",
    "        elif cik2.isnumeric():\n",
    "            cik = cik2\n",
    "\n",
    "        cik_url = 'https://www.sec.gov/edgar/browse/?CIK='+cik+'&owner=exclude'\n",
    "        driver.get(cik_url)\n",
    "\n",
    "        dropdown_xpath = '(//h5[@class=\"card-header bg-sec-silver collapsible\"])[2]'\n",
    "        wait = WebDriverWait(driver, 10)\n",
    "        element = wait.until(EC.element_to_be_clickable((By.XPATH, dropdown_xpath)))\n",
    "        driver.find_element_by_xpath(dropdown_xpath).click()\n",
    "\n",
    "        file_xpath = '(//div[@id=\"selected-filings-annualOrQuarterly\"]//li)[1]'\n",
    "        wait = WebDriverWait(driver, 10)\n",
    "        element = wait.until(EC.element_to_be_clickable((By.XPATH, file_xpath)))\n",
    "        driver.find_element_by_xpath(file_xpath).click()\n",
    "\n",
    "        driver.switch_to.window(driver.window_handles[-1])\n",
    "        # driver.execute_script('window.print();')\n",
    "        new_url = driver.current_url\n",
    "        new_url = new_url.replace('ix?doc=/', '')\n",
    "        driver.get(new_url)\n",
    "\n",
    "        time.sleep(5)\n",
    "        driver.execute_script('window.print();')\n",
    "\n",
    "        time.sleep(5)\n",
    "        src = 'C:/Users/apoor/Downloads/'+(new_url.split('/')[-1]).replace('.htm', '.pdf')\n",
    "        dest = './files/'+company+'.pdf'\n",
    "        os.rename(src, dest)\n",
    "\n",
    "        driver.close()\n",
    "        driver.switch_to.window(driver.window_handles[-1])\n",
    "    except:\n",
    "        failed.append(company)\n",
    "        continue"
   ]
  },
  {
   "cell_type": "code",
   "execution_count": 14,
   "metadata": {},
   "outputs": [
    {
     "data": {
      "text/plain": [
       "['Apple',\n",
       " 'CVS Health',\n",
       " 'Berkshire Hathaway',\n",
       " 'UnitedHealth Group',\n",
       " 'McKesson',\n",
       " 'AT&T',\n",
       " 'AmerisourceBergen']"
      ]
     },
     "execution_count": 14,
     "metadata": {},
     "output_type": "execute_result"
    }
   ],
   "source": [
    "failed"
   ]
  },
  {
   "cell_type": "code",
   "execution_count": 45,
   "metadata": {},
   "outputs": [
    {
     "name": "stdout",
     "output_type": "stream",
     "text": [
      "Cardinal Health\n",
      "JPMorgan Chase\n",
      "Microsoft\n",
      "Fannie Mae\n",
      "Bank of America\n",
      "Comcast NBCUniversal\n",
      "Wells Fargo\n",
      "State Farm Insurance\n",
      "Freddie Mac\n",
      "Lowe's\n",
      "FedEx\n",
      "MetLife\n",
      "Walt Disney\n",
      "Prudential Financial (U.S.)\n",
      "Albertsons\n",
      "HP\n",
      "Goldman Sachs Group\n",
      "Morgan Stanley\n",
      "Cisco\n",
      "HCA Healthcare\n",
      "American International Group\n",
      "New York Life Insurance\n",
      "Liberty Mutual Insurance Group\n",
      "Tyson Foods\n",
      "TIAA\n",
      "Oracle\n",
      "Deere\n",
      "Nike\n",
      "Massachusetts Mutual Life\n",
      "Tech Data\n",
      "USAA\n",
      "Exelon\n",
      "Northwestern Mutual\n",
      "Travelers Cos.\n",
      "U.S. Bancorp\n",
      "Paccar\n",
      "Macy's\n",
      "Jabil\n",
      "Tesla\n",
      "NGL Energy Partners\n",
      "Synnex\n",
      "United Natural Foods\n",
      "Micron Technology\n",
      "Nucor\n",
      "PNC Financial Services Group\n",
      "Southern Company\n",
      "DXC Technology\n",
      "McDonald's\n",
      "ManpowerGroup\n",
      "Bank of New York Mellon\n",
      "Kohl's\n",
      "Performance Food Group\n",
      "CarMax\n",
      "WestRock\n",
      "D.R. Horton\n",
      "Lincoln National\n",
      "General Mills\n",
      "Dominion Energy\n",
      "Principal Financial\n",
      "American Electric Power\n",
      "C.H. Robinson Worldwide\n",
      "Estée Lauder\n",
      "Goodyear Tire & Rubber\n",
      "BlackRock\n",
      "Parker-Hannifin\n",
      "Automatic Data Processing\n",
      "Land O'Lakes\n",
      "VF\n",
      "Guardian Life Ins. Co. of America\n",
      "Community Health Systems\n",
      "BJ's Wholesale Club\n",
      "Global Partners\n",
      "MGM Resorts International\n"
     ]
    }
   ],
   "source": [
    "cmp = list(companies[\"Company Name\"][10:250])\n",
    "failed = []\n",
    "sec_url = 'https://www.sec.gov/edgar/searchedgar/companysearch.html'\n",
    "\n",
    "searchbar_xpath = '//*[@id=\"company\"]'\n",
    "searchbtn_xpath = '//*[@id=\"search_button\"]'\n",
    "\n",
    "for company in cmp:\n",
    "    try:\n",
    "        driver.get(sec_url)\n",
    "        driver.find_element_by_xpath(searchbar_xpath).send_keys(company)\n",
    "        time.sleep(5)\n",
    "        el = driver.find_element_by_xpath(searchbar_xpath)\n",
    "        action = webdriver.common.action_chains.ActionChains(driver)\n",
    "        action.move_to_element_with_offset(el, 100, 90)\n",
    "        action.click()\n",
    "        action.perform()\n",
    "        dropdown_xpath = '(//*[contains(text(),\"10-K\")])[1]'\n",
    "        wait = WebDriverWait(driver, 10)\n",
    "        element = wait.until(EC.element_to_be_clickable((By.XPATH, dropdown_xpath)))\n",
    "        driver.find_element_by_xpath(dropdown_xpath).click()\n",
    "\n",
    "        file_xpath = '(//*[contains(text(),\"10-K\")])[2]'\n",
    "        wait = WebDriverWait(driver, 10)\n",
    "        element = wait.until(EC.element_to_be_clickable((By.XPATH, file_xpath)))\n",
    "        driver.find_element_by_xpath(file_xpath).click()\n",
    "        \n",
    "        driver.switch_to.window(driver.window_handles[-1])\n",
    "        # driver.execute_script('window.print();')\n",
    "        new_url = driver.current_url\n",
    "        new_url = new_url.replace('ix?doc=/', '')\n",
    "        driver.get(new_url)\n",
    "\n",
    "        time.sleep(5)\n",
    "        driver.execute_script('window.print();')\n",
    "\n",
    "        time.sleep(5)\n",
    "        src = 'C:/Users/apoor/Downloads/'+(new_url.split('/')[-1]).replace('.htm', '.pdf')\n",
    "        dest = './files/'+company+'.pdf'\n",
    "        os.rename(src, dest)\n",
    "\n",
    "        driver.close()\n",
    "        driver.switch_to.window(driver.window_handles[-1])\n",
    "    except:\n",
    "        print(company)\n",
    "        failed.append(company)\n",
    "        if len(driver.window_handles) == 1:\n",
    "            continue\n",
    "        else:            \n",
    "            driver.close()\n",
    "            driver.switch_to.window(driver.window_handles[-1])\n",
    "        continue"
   ]
  },
  {
   "cell_type": "code",
   "execution_count": 60,
   "metadata": {},
   "outputs": [],
   "source": [
    "driver.quit()"
   ]
  },
  {
   "cell_type": "code",
   "execution_count": 26,
   "metadata": {},
   "outputs": [
    {
     "data": {
      "text/plain": [
       "0               Walmart\n",
       "1                Amazon\n",
       "2           Exxon Mobil\n",
       "3                 Apple\n",
       "4            CVS Health\n",
       "5    Berkshire Hathaway\n",
       "6    UnitedHealth Group\n",
       "7              McKesson\n",
       "8                  AT&T\n",
       "9     AmerisourceBergen\n",
       "Name: Company Name, dtype: object"
      ]
     },
     "execution_count": 26,
     "metadata": {},
     "output_type": "execute_result"
    }
   ],
   "source": [
    "companies[\"Company Name\"][0:10]"
   ]
  },
  {
   "cell_type": "code",
   "execution_count": 58,
   "metadata": {},
   "outputs": [
    {
     "data": {
      "text/plain": [
       "['./files\\\\3M.pdf',\n",
       " './files\\\\Abbott Laboratories.pdf',\n",
       " './files\\\\AbbVie.pdf',\n",
       " './files\\\\AECOM.pdf',\n",
       " './files\\\\Aflac.pdf',\n",
       " './files\\\\Albertsons.pdf',\n",
       " './files\\\\Allstate.pdf',\n",
       " './files\\\\Alphabet.pdf',\n",
       " './files\\\\Altria Group.pdf',\n",
       " './files\\\\Amazon.pdf']"
      ]
     },
     "execution_count": 58,
     "metadata": {},
     "output_type": "execute_result"
    }
   ],
   "source": [
    "import glob\n",
    "files = glob.glob('./files/*.pdf')\n",
    "files[0:10]"
   ]
  },
  {
   "cell_type": "code",
   "execution_count": 59,
   "metadata": {},
   "outputs": [
    {
     "name": "stdout",
     "output_type": "stream",
     "text": [
      "./files\\JPMorgan Chase.pdf\n",
      "./files\\Fannie Mae.pdf\n",
      "./files\\Bank of America.pdf\n",
      "./files\\Comcast NBCUniversal.pdf\n",
      "./files\\Wells Fargo.pdf\n",
      "./files\\State Farm Insurance.pdf\n",
      "./files\\Freddie Mac.pdf\n",
      "./files\\Lowe's.pdf\n",
      "./files\\FedEx.pdf\n",
      "./files\\MetLife.pdf\n",
      "./files\\Walt Disney.pdf\n",
      "./files\\Prudential Financial (U.S.).pdf\n",
      "./files\\HP.pdf\n",
      "./files\\Goldman Sachs Group.pdf\n",
      "./files\\Morgan Stanley.pdf\n",
      "./files\\American International Group.pdf\n",
      "./files\\New York Life Insurance.pdf\n",
      "./files\\Liberty Mutual Insurance Group.pdf\n",
      "./files\\Tyson Foods.pdf\n",
      "./files\\TIAA.pdf\n",
      "./files\\Oracle.pdf\n",
      "./files\\Deere.pdf\n",
      "./files\\Massachusetts Mutual Life.pdf\n",
      "./files\\USAA.pdf\n",
      "./files\\Exelon.pdf\n",
      "./files\\Northwestern Mutual.pdf\n",
      "./files\\Travelers Cos..pdf\n",
      "./files\\U.S. Bancorp.pdf\n",
      "./files\\Macy's.pdf\n",
      "./files\\Jabil.pdf\n",
      "./files\\United Natural Foods.pdf\n",
      "./files\\Micron Technology.pdf\n",
      "./files\\PNC Financial Services Group.pdf\n",
      "./files\\Southern Company.pdf\n",
      "./files\\McDonald's.pdf\n",
      "./files\\Bank of New York Mellon.pdf\n",
      "./files\\Kohl's.pdf\n",
      "./files\\D.R. Horton.pdf\n",
      "./files\\Lincoln National.pdf\n",
      "./files\\Dominion Energy.pdf\n",
      "./files\\Principal Financial.pdf\n",
      "./files\\American Electric Power.pdf\n",
      "./files\\C.H. Robinson Worldwide.pdf\n",
      "./files\\Estée Lauder.pdf\n",
      "./files\\Automatic Data Processing.pdf\n",
      "./files\\Land O'Lakes.pdf\n",
      "./files\\VF.pdf\n",
      "./files\\Guardian Life Ins. Co. of America.pdf\n",
      "./files\\BJ's Wholesale Club.pdf\n",
      "./files\\Global Partners.pdf\n"
     ]
    },
    {
     "data": {
      "text/plain": [
       "50"
      ]
     },
     "execution_count": 59,
     "metadata": {},
     "output_type": "execute_result"
    }
   ],
   "source": [
    "count=0\n",
    "for failed_f in failed:\n",
    "    temp = './files\\\\'+failed_f+'.pdf'\n",
    "    if temp not in files:\n",
    "        print(temp)\n",
    "        count+=1\n",
    "count"
   ]
  },
  {
   "cell_type": "code",
   "execution_count": null,
   "metadata": {},
   "outputs": [],
   "source": []
  }
 ],
 "metadata": {
  "kernelspec": {
   "display_name": "Python 3",
   "language": "python",
   "name": "python3"
  },
  "language_info": {
   "codemirror_mode": {
    "name": "ipython",
    "version": 3
   },
   "file_extension": ".py",
   "mimetype": "text/x-python",
   "name": "python",
   "nbconvert_exporter": "python",
   "pygments_lexer": "ipython3",
   "version": "3.8.3"
  }
 },
 "nbformat": 4,
 "nbformat_minor": 4
}
