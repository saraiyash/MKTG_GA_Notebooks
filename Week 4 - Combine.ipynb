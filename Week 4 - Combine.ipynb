{
 "cells": [
  {
   "cell_type": "code",
   "execution_count": 5,
   "metadata": {},
   "outputs": [
    {
     "name": "stdout",
     "output_type": "stream",
     "text": [
      "Collecting pathlib\n",
      "  Downloading pathlib-1.0.1.tar.gz (49 kB)\n",
      "Building wheels for collected packages: pathlib\n",
      "  Building wheel for pathlib (setup.py): started\n",
      "  Building wheel for pathlib (setup.py): finished with status 'done'\n",
      "  Created wheel for pathlib: filename=pathlib-1.0.1-py3-none-any.whl size=14353 sha256=c0792fa642c481bffb997ae1ede70128471e2a65855080974299a226992d7312\n",
      "  Stored in directory: c:\\users\\apoor\\appdata\\local\\pip\\cache\\wheels\\59\\02\\2f\\ff4a3e16a518feb111ae1405908094483ef56fec0dfa39e571\n",
      "Successfully built pathlib\n",
      "Installing collected packages: pathlib\n",
      "Successfully installed pathlib-1.0.1\n"
     ]
    }
   ],
   "source": [
    "import sys\n",
    "!python -m pip install pathlib"
   ]
  },
  {
   "cell_type": "code",
   "execution_count": 15,
   "metadata": {},
   "outputs": [
    {
     "data": {
      "text/plain": [
       "[WindowsPath('Data/Fox News_IsAbsent.csv'),\n",
       " WindowsPath('Data/Google trends log.xlsx'),\n",
       " WindowsPath('Data/responses_permno_sep16.csv'),\n",
       " WindowsPath('Data/search terms/19 kids and counting.csv'),\n",
       " WindowsPath('Data/search terms/Adam Giles.csv'),\n",
       " WindowsPath('Data/search terms/Alex Jones.csv'),\n",
       " WindowsPath('Data/search terms/All American Muslim TLC.csv'),\n",
       " WindowsPath('Data/search terms/Ann Coulter.csv'),\n",
       " WindowsPath('Data/search terms/Apple Appstore.csv'),\n",
       " WindowsPath('Data/search terms/Big Brother and CBS.csv'),\n",
       " WindowsPath(\"Data/search terms/Bill O'Reilly.csv\"),\n",
       " WindowsPath('Data/search terms/Black Jesus.csv'),\n",
       " WindowsPath('Data/search terms/Breitbart.csv'),\n",
       " WindowsPath('Data/search terms/Crowder Youtube.csv'),\n",
       " WindowsPath('Data/search terms/Dating naked VH1.csv'),\n",
       " WindowsPath('Data/search terms/Dog the bounty hunter.csv'),\n",
       " WindowsPath('Data/search terms/Dr. Laura Schlessinger.csv'),\n",
       " WindowsPath('Data/search terms/Facebook.csv'),\n",
       " WindowsPath('Data/search terms/Gamasutra.csv'),\n",
       " WindowsPath('Data/search terms/Glenn Beck.csv'),\n",
       " WindowsPath('Data/search terms/Hardball.csv'),\n",
       " WindowsPath('Data/search terms/Imus Show.csv'),\n",
       " WindowsPath('Data/search terms/Infowars.csv'),\n",
       " WindowsPath('Data/search terms/Jeanine Pirro.csv'),\n",
       " WindowsPath('Data/search terms/John and Ken Show.csv'),\n",
       " WindowsPath('Data/search terms/Laura Ingraham.csv'),\n",
       " WindowsPath('Data/search terms/Lou Dobbs.csv'),\n",
       " WindowsPath('Data/search terms/Megyn Kelly.csv'),\n",
       " WindowsPath('Data/search terms/Michael J. Knowles.csv'),\n",
       " WindowsPath('Data/search terms/NFL.csv'),\n",
       " WindowsPath('Data/search terms/Rush Limbaugh.csv'),\n",
       " WindowsPath('Data/search terms/Samantha Bee.csv'),\n",
       " WindowsPath('Data/search terms/Saturday night live.csv'),\n",
       " WindowsPath('Data/search terms/Sean Hannity.csv'),\n",
       " WindowsPath('Data/search terms/Skins MTV.csv'),\n",
       " WindowsPath(\"Data/search terms/The O'Reilly Factor.csv\"),\n",
       " WindowsPath('Data/search terms/The View.csv'),\n",
       " WindowsPath('Data/search terms/The Village Voice.csv'),\n",
       " WindowsPath('Data/search terms/Tucker Carlson.csv'),\n",
       " WindowsPath('Data/search terms/Youtube.csv')]"
      ]
     },
     "execution_count": 15,
     "metadata": {},
     "output_type": "execute_result"
    }
   ],
   "source": [
    "import pandas as pd\n",
    "import numpy as np\n",
    "from pathlib import Path\n",
    "\n",
    "data_folder = Path(\"Data/\")\n",
    "p = data_folder.glob('**/*')\n",
    "files = [x for x in p if x.is_file()]"
   ]
  },
  {
   "cell_type": "code",
   "execution_count": 88,
   "metadata": {},
   "outputs": [],
   "source": [
    "searchDate = []\n",
    "temp = pd.DataFrame()\n",
    "responses = pd.read_csv(\"Data/responses_permno_sep16.csv\", encoding=\"cp1252\")\n",
    "for i in responses.index:\n",
    "    month, day, year = (responses[\"formatted date\"][i]).split('/')\n",
    "    if int(day)<10:\n",
    "        day = \"0\"+day\n",
    "    if int(month)<10:\n",
    "        month = \"0\"+month\n",
    "    searchDate.append(str(year+\"-\"+month))\n",
    "responses[\"searchDate\"] = searchDate\n",
    "\n",
    "popularity = []\n",
    "for i in responses.index:\n",
    "    term = responses[\"Google search term\"][i]\n",
    "    date = responses[\"searchDate\"][i]\n",
    "    popularity.append(getPopularity(term, date))\n",
    "responses[\"Popularity\"] = popularity"
   ]
  },
  {
   "cell_type": "code",
   "execution_count": 80,
   "metadata": {},
   "outputs": [],
   "source": [
    "def getPopularity(show_name, date):\n",
    "    pathlist = Path(data_folder).glob('**/*.csv')\n",
    "    for path in pathlist:\n",
    "         # because path is object not string\n",
    "        path_in_str = str(path)\n",
    "        if show_name.lower() in path_in_str.lower():\n",
    "            read_df = pd.read_csv(path_in_str, skiprows=2)\n",
    "            for i in (read_df.index):\n",
    "                if read_df.iloc[i][0] == date:\n",
    "                    return (read_df.iloc[i][1])"
   ]
  },
  {
   "cell_type": "code",
   "execution_count": 59,
   "metadata": {},
   "outputs": [
    {
     "data": {
      "text/plain": [
       "60"
      ]
     },
     "execution_count": 59,
     "metadata": {},
     "output_type": "execute_result"
    }
   ],
   "source": [
    "getPopularity(show_name = \"Ann Coulter\", date = \"2007-03\")"
   ]
  },
  {
   "cell_type": "code",
   "execution_count": 89,
   "metadata": {},
   "outputs": [],
   "source": [
    "responses.to_csv(\"output.csv\")"
   ]
  },
  {
   "cell_type": "code",
   "execution_count": null,
   "metadata": {},
   "outputs": [],
   "source": []
  }
 ],
 "metadata": {
  "kernelspec": {
   "display_name": "Python 3",
   "language": "python",
   "name": "python3"
  },
  "language_info": {
   "codemirror_mode": {
    "name": "ipython",
    "version": 3
   },
   "file_extension": ".py",
   "mimetype": "text/x-python",
   "name": "python",
   "nbconvert_exporter": "python",
   "pygments_lexer": "ipython3",
   "version": "3.8.3"
  }
 },
 "nbformat": 4,
 "nbformat_minor": 4
}
